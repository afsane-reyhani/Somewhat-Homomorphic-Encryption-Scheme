{
 "cells": [
  {
   "cell_type": "markdown",
   "metadata": {},
   "source": [
    "# recall filename.ipynp "
   ]
  },
  {
   "cell_type": "code",
   "execution_count": 1,
   "metadata": {},
   "outputs": [
    {
     "name": "stdout",
     "output_type": "stream",
     "text": [
      "importing Jupyter notebook from somewhat.ipynb\n"
     ]
    }
   ],
   "source": [
    "import import_ipynb\n",
    "import somewhat"
   ]
  },
  {
   "cell_type": "markdown",
   "metadata": {},
   "source": [
    "# generate key with choise security parameter"
   ]
  },
  {
   "cell_type": "code",
   "execution_count": 2,
   "metadata": {},
   "outputs": [
    {
     "name": "stdout",
     "output_type": "stream",
     "text": [
      "input integer number3\n",
      "λ 3\n",
      "eta 4\n",
      "ρ 1\n",
      "γ 18\n",
      "τ 19\n",
      "ρρ 2\n",
      "Random integer from 2^(eta-1) to 2^(eta)\n",
      "secret key:  15\n",
      "x_0 260327\n",
      "public key [120377, 156705, 224143, 105676, 112425, 183133, 227459, 260327, 157288, 250831, 243885, 247920, 255855, 31468, 32942, 178442, 250693, 67231, 9001]\n"
     ]
    }
   ],
   "source": [
    "λ = 1\n",
    "f = somewhat.key_generation(λ)\n",
    "λ =f[0]\n",
    "eta=f[1]\n",
    "ρ=f[2]\n",
    "γ=f[3]\n",
    "τ=f[4]\n",
    "ρρ=f[5]\n",
    "p=f[6]\n",
    "x_0=f[7]\n",
    "x=f[8]"
   ]
  },
  {
   "cell_type": "markdown",
   "metadata": {},
   "source": [
    "# generate plaintext random with choise length of plaintext"
   ]
  },
  {
   "cell_type": "code",
   "execution_count": 3,
   "metadata": {},
   "outputs": [
    {
     "name": "stdout",
     "output_type": "stream",
     "text": [
      "Enter number of elements : 6\n",
      "plaintext [0 0 1 1 0 1]\n"
     ]
    }
   ],
   "source": [
    "n=1\n",
    "m=somewhat.plaintext(n)"
   ]
  },
  {
   "cell_type": "markdown",
   "metadata": {},
   "source": [
    "# encryption multi bit plaintext "
   ]
  },
  {
   "cell_type": "code",
   "execution_count": 4,
   "metadata": {},
   "outputs": [
    {
     "name": "stdout",
     "output_type": "stream",
     "text": [
      "ciphertext [-126840, 103233, -92996, -118276, 120146, 17903]\n"
     ]
    }
   ],
   "source": [
    "c=somewhat.encryption(m,x,τ,ρρ,x_0)"
   ]
  },
  {
   "cell_type": "markdown",
   "metadata": {},
   "source": [
    "# decryption ciphertext "
   ]
  },
  {
   "cell_type": "code",
   "execution_count": 5,
   "metadata": {},
   "outputs": [
    {
     "name": "stdout",
     "output_type": "stream",
     "text": [
      "decryption [0, 1, 0, 1, 0, 1]\n"
     ]
    }
   ],
   "source": [
    "d=somewhat.decryption(c,p)"
   ]
  },
  {
   "cell_type": "markdown",
   "metadata": {},
   "source": [
    "# comput error decryption "
   ]
  },
  {
   "cell_type": "code",
   "execution_count": 6,
   "metadata": {},
   "outputs": [
    {
     "name": "stdout",
     "output_type": "stream",
     "text": [
      "error 2\n"
     ]
    }
   ],
   "source": [
    "error=somewhat.error(d,m)"
   ]
  },
  {
   "cell_type": "markdown",
   "metadata": {},
   "source": [
    "# evalute Sum"
   ]
  },
  {
   "cell_type": "code",
   "execution_count": 7,
   "metadata": {},
   "outputs": [
    {
     "name": "stdout",
     "output_type": "stream",
     "text": [
      "-96830\n",
      "decryption [1]\n",
      "sume [1]\n",
      "summ 1\n"
     ]
    }
   ],
   "source": [
    "somewhat.sume(c,p,m)"
   ]
  },
  {
   "cell_type": "markdown",
   "metadata": {},
   "source": [
    "# evalute Mult"
   ]
  },
  {
   "cell_type": "code",
   "execution_count": 8,
   "metadata": {},
   "outputs": [
    {
     "name": "stdout",
     "output_type": "stream",
     "text": [
      "2103781120\n",
      "decryption [0]\n",
      "multe [0]\n",
      "multm 0\n"
     ]
    },
    {
     "name": "stderr",
     "output_type": "stream",
     "text": [
      "somewhat.ipynb:2: RuntimeWarning: overflow encountered in long_scalars\n",
      "  \"cells\": [\n"
     ]
    }
   ],
   "source": [
    "somewhat.multe(c,p,m)"
   ]
  },
  {
   "cell_type": "markdown",
   "metadata": {},
   "source": [
    "# evalute multi list SUM"
   ]
  },
  {
   "cell_type": "code",
   "execution_count": 9,
   "metadata": {},
   "outputs": [
    {
     "name": "stdout",
     "output_type": "stream",
     "text": [
      "Enter number of lists : 10\n",
      "Enter number of elements : 3\n",
      "ciphertext [96564, -23332, 32208]\n",
      "ciphertext [-120575, 85494, 43940]\n",
      "ciphertext [9402, -111048, -112798]\n",
      "ciphertext [-16253, -14083, 107340]\n",
      "ciphertext [64158, -78409, -16253]\n",
      "ciphertext [-51498, 105941, 98798]\n",
      "ciphertext [-43633, 114195, -56069]\n",
      "ciphertext [-21477, 31291, 876]\n",
      "ciphertext [-49271, -127464, 66961]\n",
      "ciphertext [-98613, 31023, 109703]\n",
      "decryption [1, 1, 1]\n",
      "decription SUM Multi cipertext List [1, 1, 1]\n",
      "SUM MUlti plaintext List [1.0, 1.0, 1.0]\n",
      "error 0.0\n",
      "error None\n"
     ]
    }
   ],
   "source": [
    "somewhat.sumlist(x,τ,ρρ,x_0,p)"
   ]
  },
  {
   "cell_type": "markdown",
   "metadata": {},
   "source": [
    "# evalute multi list multiplaction"
   ]
  },
  {
   "cell_type": "code",
   "execution_count": 10,
   "metadata": {},
   "outputs": [
    {
     "name": "stdout",
     "output_type": "stream",
     "text": [
      "Enter number of lists : 10\n",
      "Enter number of elements : 3\n",
      "ciphertext [12276, 100296, -129043]\n",
      "ciphertext [52724, -50251, -36688]\n",
      "ciphertext [-114291, 100668, -592]\n",
      "ciphertext [-19573, -122188, 71566]\n",
      "ciphertext [125691, -78103, -123125]\n",
      "ciphertext [-16248, -19276, -64639]\n",
      "ciphertext [-38259, 8575, 61063]\n",
      "ciphertext [-72373, -112068, -68526]\n",
      "ciphertext [-72369, -89606, 111051]\n",
      "ciphertext [-41128, -34254, -16251]\n",
      "decryption [0.0, 0.0, 0.0]\n",
      "decription multiplacton multi ciphertext [0.0, 0.0, 0.0]\n",
      "multiplaction MUlti plaintext List [0.0, 0.0, 0.0]\n",
      "error 0.0\n",
      "error None\n"
     ]
    }
   ],
   "source": [
    "somewhat.multiplactonlist(x,τ,ρρ,x_0,p)"
   ]
  },
  {
   "cell_type": "markdown",
   "metadata": {},
   "source": [
    "# sum and multiplaction list"
   ]
  },
  {
   "cell_type": "code",
   "execution_count": 11,
   "metadata": {},
   "outputs": [
    {
     "name": "stdout",
     "output_type": "stream",
     "text": [
      "Enter number of lists : 10\n",
      "Enter number of elements : 3\n",
      "ciphertext [-79072, 2738, -115506]\n",
      "ciphertext [-48983, 1531, 88457]\n",
      "ciphertext [-88243, -20846, 9700]\n",
      "ciphertext [68733, 75422, 31008]\n",
      "ciphertext [43664, 98512, 104457]\n",
      "ciphertext [88240, 28898, -16248]\n",
      "ciphertext [-42437, -104107, -16247]\n",
      "ciphertext [-100343, -79891, 57547]\n",
      "ciphertext [-60617, 32921, -16252]\n",
      "ciphertext [40319, -38576, 48933]\n",
      "decryption [1, 0, 1]\n",
      "decription SUM Multi cipertext List [1, 0, 1]\n",
      "SUM MUlti plaintext List [1.0, 1.0, 1.0]\n",
      "error 1.0\n",
      "errorsum None\n",
      "decryption [0.0, 0.0, 0.0]\n",
      "decription multiplacton multi ciphertext [0.0, 0.0, 0.0]\n",
      "multiplaction MUlti plaintext List [0.0, 0.0, 0.0]\n",
      "error 0.0\n",
      "errormult None\n"
     ]
    }
   ],
   "source": [
    "somewhat.sumandmultiplaction(x,τ,ρρ,x_0,p)"
   ]
  },
  {
   "cell_type": "code",
   "execution_count": null,
   "metadata": {},
   "outputs": [],
   "source": []
  }
 ],
 "metadata": {
  "kernelspec": {
   "display_name": "Python 3",
   "language": "python",
   "name": "python3"
  },
  "language_info": {
   "codemirror_mode": {
    "name": "ipython",
    "version": 3
   },
   "file_extension": ".py",
   "mimetype": "text/x-python",
   "name": "python",
   "nbconvert_exporter": "python",
   "pygments_lexer": "ipython3",
   "version": "3.7.4"
  }
 },
 "nbformat": 4,
 "nbformat_minor": 2
}
